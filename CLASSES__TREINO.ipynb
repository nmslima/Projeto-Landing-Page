{
  "nbformat": 4,
  "nbformat_minor": 0,
  "metadata": {
    "colab": {
      "provenance": [],
      "include_colab_link": true
    },
    "kernelspec": {
      "name": "python3",
      "display_name": "Python 3"
    },
    "language_info": {
      "name": "python"
    }
  },
  "cells": [
    {
      "cell_type": "markdown",
      "metadata": {
        "id": "view-in-github",
        "colab_type": "text"
      },
      "source": [
        "<a href=\"https://colab.research.google.com/github/nmslima/Projeto-Landing-Page/blob/main/CLASSES__TREINO.ipynb\" target=\"_parent\"><img src=\"https://colab.research.google.com/assets/colab-badge.svg\" alt=\"Open In Colab\"/></a>"
      ]
    },
    {
      "cell_type": "code",
      "source": [
        "# Definindo a classe Animal\n",
        "\n",
        "\n",
        "\n",
        "class Animal:\n",
        "    def __init__(self, nome, peso, mamifero, especie, idade, som):\n",
        "        self.nome = nome          # Nome do animal\n",
        "        self.peso = peso\n",
        "        self.mamifero = mamifero\n",
        "        self.especie = especie    # Espécie do animal\n",
        "        self.idade = idade        # Idade do animal\n",
        "        self.som = som            # Som que o animal faz\n",
        "\n",
        "    # Método para o animal emitir som\n",
        "    def emitir_som(self):\n",
        "        print(f\"{self.nome} faz '{self.som}'!\")\n",
        "\n",
        "    # Método para exibir informações do animal\n",
        "    def info(self):\n",
        "        print(f\"Nome: {self.nome}, Peso: {self.peso}, Mamífero: {self.mamifero}, Espécie: {self.especie}, Idade: {self.idade}, , Som: {self.som}\")\n",
        "\n",
        "    # Método para simular o envelhecimento do animal\n",
        "    def envelhecer(self):\n",
        "        self.idade += 1\n",
        "        print(f\"{self.nome} agora tem {self.idade} anos.\")\n",
        "\n",
        "# Instanciando objetos da classe Animal\n",
        "cachorro = Animal(\"Rex\", 5, True, \"Cachorro\", 5, \"latido\")\n",
        "\n",
        "\n",
        "# Usando os métodos da classe\n",
        "cachorro.emitir_som()  # Rex faz 'latido'!\n",
        "cachorro.info()\n"
      ],
      "metadata": {
        "id": "eLm-Sl1u-sAr",
        "colab": {
          "base_uri": "https://localhost:8080/"
        },
        "outputId": "54c73f30-7842-4997-dc5f-d32bf73a4469"
      },
      "execution_count": null,
      "outputs": [
        {
          "output_type": "stream",
          "name": "stdout",
          "text": [
            "Rex faz 'latido'!\n",
            "Nome: Rex, Peso: 5, Mamífero: True, Espécie: Cachorro, Idade: 5, , Som: latido\n"
          ]
        }
      ]
    },
    {
      "cell_type": "markdown",
      "source": [
        "**CLASSE ANIMAIS**"
      ],
      "metadata": {
        "id": "8YuK8lA3-tvR"
      }
    },
    {
      "cell_type": "code",
      "source": [
        "#SUBCLASSES\n",
        "\n",
        "#As subclasses herdam os atributos genéricos da classe mãe\n",
        "#e possibilita a criação de atributos e métodos específicos\n",
        "\n",
        "class Cachorro(Animal):\n",
        "  def som_cachorro(self):\n",
        "    print(f\"{self.som} late!\")\n",
        "\n",
        "class Gato(Animal):\n",
        "  def som_gato(self):\n",
        "    print(f\"{self.nome} mia!\")\n",
        "\n",
        "class Arara(Animal):\n",
        " def som_arara(self):\n",
        "  print(f\"{self.nome} imita!\")\n",
        "\n",
        "class Peixe(Animal):\n",
        " def alimentar(self):\n",
        "  print(f\"{self.nome} se alimenta de vegetais!\")\n",
        "\n",
        "\n",
        "Floquinho = Cachorro(\"Floquinho\", 5, True, \"Pet\",6,\"auauau\")\n",
        "Floquinho.emitir_som()\n",
        "Floquinho.info()\n",
        "Floquinho.som_cachorro()\n",
        "print()\n",
        "\n",
        "Lulu = Gato(\"Lulu\", 5, True, \"Gato\",10,\"miau\")\n",
        "Lulu.emitir_som()\n",
        "Lulu.info()\n",
        "Lulu.som_gato()\n",
        "print()\n",
        "\n",
        "\n",
        "Nemo = Peixe(\"Nemo\", 1, False, \"Nemo\",0.5,\"Não emite som!\")\n",
        "Nemo.emitir_som()\n",
        "Nemo.info()\n",
        "Nemo.alimentar()\n",
        "print()"
      ],
      "metadata": {
        "id": "s8F3oG4G8b_b",
        "colab": {
          "base_uri": "https://localhost:8080/"
        },
        "outputId": "d7f5a9f5-2ecc-4866-ecda-20073bbad0e5"
      },
      "execution_count": null,
      "outputs": [
        {
          "output_type": "stream",
          "name": "stdout",
          "text": [
            "Floquinho faz 'auauau'!\n",
            "Nome: Floquinho, Peso: 5, Mamífero: True, Espécie: Pet, Idade: 6, , Som: auauau\n",
            "auauau late!\n",
            "\n",
            "Lulu faz 'miau'!\n",
            "Nome: Lulu, Peso: 5, Mamífero: True, Espécie: Gato, Idade: 10, , Som: miau\n",
            "Lulu mia!\n",
            "\n",
            "Nemo faz 'Não emite som!'!\n",
            "Nome: Nemo, Peso: 1, Mamífero: False, Espécie: Nemo, Idade: 0.5, , Som: Não emite som!\n",
            "Nemo se alimenta de vegetais!\n",
            "\n"
          ]
        }
      ]
    },
    {
      "cell_type": "code",
      "source": [
        "class Animal:\n",
        "    def __init__(self, nome, cor, idade, peso, som):\n",
        "        self.nome = nome\n",
        "        self.cor = cor\n",
        "        self.idade = idade\n",
        "        self.peso = peso\n",
        "        self.som = som\n",
        "\n",
        "    # Método para o animal emitir som\n",
        "    def emitir_som(self):\n",
        "        print(f\"{self.nome} faz '{self.som}'!\")\n",
        "\n",
        "    # Método para exibir informações do animal\n",
        "    def info(self):\n",
        "        print(f\"Nome: {self.nome},Peso: {self.peso}, Idade: {self.idade}, Idade: {self.idade}, , Som: {self.som}\")\n",
        "\n",
        "    # Método para simular o envelhecimento do animal\n",
        "    def envelhecer(self):\n",
        "        self.idade += 1\n",
        "        print(f\"{self.nome} agora tem {self.idade} anos.\")\n",
        "\n",
        "# Instanciando objetos da classe Animal\n",
        "cachorro = Animal(\"Rex\", \"marrom\", 2, 5, \"latido\")\n",
        "\n",
        "\n",
        "# Usando os métodos da classe\n",
        "cachorro.emitir_som()  # Rex faz 'latido'!\n",
        "cachorro.info()\n"
      ],
      "metadata": {
        "id": "k5z17a6r7lab",
        "colab": {
          "base_uri": "https://localhost:8080/"
        },
        "outputId": "e27f2179-2547-46ce-d5d4-2d23184af3df"
      },
      "execution_count": null,
      "outputs": [
        {
          "output_type": "stream",
          "name": "stdout",
          "text": [
            "Rex faz 'latido'!\n",
            "Nome: Rex,Peso: 5, Idade: 2, Idade: 2, , Som: latido\n"
          ]
        }
      ]
    },
    {
      "cell_type": "markdown",
      "source": [
        "**COM INPUT**"
      ],
      "metadata": {
        "id": "IJYcgrRFRqJN"
      }
    },
    {
      "cell_type": "code",
      "source": [
        "class Animal:\n",
        "    def __init__(self, nome, especie):\n",
        "        self.nome = nome\n",
        "        self.especie = especie\n",
        "\n",
        "    def mostrar_dados(self):\n",
        "        print(f'Nome: {self.nome}, Espécie: {self.especie}')\n",
        "\n",
        "\n",
        "# Criação dos objetos\n",
        "cachorro = Animal('Rex', 'Cachorro')\n",
        "gato = Animal('Miau', 'Gato')\n",
        "coelho = Animal('Bunny', 'Coelho')\n",
        "\n",
        "# Dicionário para armazenar os objetos\n",
        "animais = {\n",
        "    'cachorro': cachorro,\n",
        "    'gato': gato,\n",
        "    'coelho': coelho\n",
        "}\n",
        "\n",
        "# Solicitar entrada do usuário\n",
        "nome_animal = input(\"Digite o nome do animal (cachorro, gato, coelho): \").lower()\n",
        "\n",
        "# Verificar se o nome está entre os opções e imprimir os dados\n",
        "if nome_animal in animais:\n",
        "    animais[nome_animal].mostrar_dados()\n",
        "else:\n",
        "    print(\"Nome de animal inválido. Por favor, escolha entre cachorro, gato ou coelho.\")"
      ],
      "metadata": {
        "colab": {
          "base_uri": "https://localhost:8080/"
        },
        "id": "7O4r4HuTKWEI",
        "outputId": "0b1cc883-5b83-4b6d-cc6d-6e6fb4f628d7"
      },
      "execution_count": null,
      "outputs": [
        {
          "output_type": "stream",
          "name": "stdout",
          "text": [
            "Digite o nome do animal (cachorro, gato, coelho): coelho\n",
            "Nome: Bunny, Espécie: Coelho\n"
          ]
        }
      ]
    },
    {
      "cell_type": "markdown",
      "source": [
        "**CLASSE PESSOA**"
      ],
      "metadata": {
        "id": "bOGJj0kN1CeY"
      }
    },
    {
      "cell_type": "code",
      "source": [
        "class Pessoa:\n",
        "    def __init__(self, nome, idade, renda, escolaridade):\n",
        "        self.nome = nome   # Atributo nome\n",
        "        self.idade = idade # Atributo idade\n",
        "        self.renda = renda\n",
        "        self.escolaridade = escolaridade\n",
        "\n",
        "\n",
        "# Criando um objeto da classe Pessoa\n",
        "pessoa1 = Pessoa(\"João\", 40,7000, \"Ensino Médio\")\n",
        "pessoa2=Pessoa(\"Ana\", 38,500,\"Superior Completo\")\n",
        "\n",
        "# Acessando os atributos do objeto pessoa1\n",
        "print(\"Nome:\", pessoa1.nome)\n",
        "print(\"Idade:\", pessoa1.idade)\n",
        "print(\"Renda:\", pessoa1.renda)\n",
        "print(\"Escolaridade:\", pessoa1.escolaridade)\n",
        "\n",
        "print()\n",
        "print()\n",
        "\n",
        "# Acessando os atributos do objeto pessoa2\n",
        "print(\"Nome:\", pessoa2.nome)\n",
        "print(\"Idade:\", pessoa2.idade)\n",
        "print(\"Renda:\", pessoa2.renda)\n",
        "print(\"Escolaridade:\", pessoa2.escolaridade)\n",
        "\n",
        "\n"
      ],
      "metadata": {
        "colab": {
          "base_uri": "https://localhost:8080/"
        },
        "id": "sJeqvbFQ1CGL",
        "outputId": "2f1e807a-9f06-42d9-99e0-86ebe86fc372"
      },
      "execution_count": null,
      "outputs": [
        {
          "output_type": "stream",
          "name": "stdout",
          "text": [
            "Nome: João\n",
            "Idade: 40\n",
            "Renda: 7000\n",
            "Escolaridade: Ensino Médio\n",
            "\n",
            "\n",
            "Nome: Ana\n",
            "Idade: 38\n",
            "Renda: 500\n",
            "Escolaridade: Superior Completo\n"
          ]
        }
      ]
    },
    {
      "cell_type": "markdown",
      "source": [
        "**MODIFICANDO UM ATRIBUTO**"
      ],
      "metadata": {
        "id": "6ZvYY4j11hf3"
      }
    },
    {
      "cell_type": "code",
      "source": [
        "# Modificando um atributo\n",
        "pessoa1.renda = 15000\n",
        "print(\"Nova renda:\", pessoa1.renda)\n"
      ],
      "metadata": {
        "colab": {
          "base_uri": "https://localhost:8080/"
        },
        "id": "lbrMqUgO1hLj",
        "outputId": "cbc2b95e-c663-4d12-8b09-2f2315ae85f8"
      },
      "execution_count": null,
      "outputs": [
        {
          "output_type": "stream",
          "name": "stdout",
          "text": [
            "Nova renda: 15000\n"
          ]
        }
      ]
    },
    {
      "cell_type": "markdown",
      "source": [
        "**CLASSE CARRO**"
      ],
      "metadata": {
        "id": "k4ggQ3bx1-LP"
      }
    },
    {
      "cell_type": "code",
      "source": [
        "class Carro:\n",
        "    def __init__(self, marca, modelo, ano, capacidade_tanque):\n",
        "        self.marca = marca\n",
        "        self.modelo = modelo\n",
        "        self.ano = ano\n",
        "        self.capacidade_tanque = capacidade_tanque  # Capacidade em litros\n",
        "        self.nivel_combustivel = 0  # Inicia com o tanque vazio\n",
        "        self.ligado = False  # O carro começa desligado\n",
        "        self.velocidade = 0  # O carro começa parado\n",
        "\n",
        "    def ligar(self):\n",
        "        if not self.ligado:\n",
        "            if self.nivel_combustivel > 0:\n",
        "                self.ligado = True\n",
        "                print(f\"O {self.modelo} foi ligado.\")\n",
        "            else:\n",
        "                print(\"O carro não pode ser ligado. Tanque vazio!\")\n",
        "        else:\n",
        "            print(f\"O {self.modelo} já está ligado.\")\n",
        "\n",
        "    def desligar(self):\n",
        "        if self.ligado:\n",
        "            self.ligado = False\n",
        "            self.velocidade = 0\n",
        "            print(f\"O {self.modelo} foi desligado.\")\n",
        "        else:\n",
        "            print(f\"O {self.modelo} já está desligado.\")\n",
        "\n",
        "    def acelerar(self, incremento):\n",
        "        if self.ligado:\n",
        "            self.velocidade += incremento\n",
        "            print(f\"O {self.modelo} acelerou para {self.velocidade} km/h.\")\n",
        "        else:\n",
        "            print(\"O carro está desligado. Não pode acelerar.\")\n",
        "\n",
        "    def frear(self, decremento):\n",
        "        if self.ligado and self.velocidade > 0:\n",
        "            self.velocidade -= decremento\n",
        "            if self.velocidade < 0:\n",
        "                self.velocidade = 0\n",
        "            print(f\"O {self.modelo} diminuiu a velocidade para {self.velocidade} km/h.\")\n",
        "        else:\n",
        "            print(\"O carro está desligado ou já está parado.\")\n",
        "\n",
        "    def abastecer(self, litros):\n",
        "        if litros <= 0:\n",
        "            print(\"Você não pode abastecer uma quantidade negativa ou zero de combustível.\")\n",
        "        elif self.nivel_combustivel + litros > self.capacidade_tanque:\n",
        "            print(\"Excederá a capacidade do tanque.\")\n",
        "        else:\n",
        "            self.nivel_combustivel += litros\n",
        "            print(f\"{litros} litros foram adicionados ao tanque do {self.modelo}. Nível atual: {self.nivel_combustivel} litros.\")\n",
        "\n",
        "    def status(self):\n",
        "        estado = \"ligado\" if self.ligado else \"desligado\"\n",
        "        print(f\"Carro: {self.marca} {self.modelo} ({self.ano})\")\n",
        "        print(f\"Estado: {estado}\")\n",
        "        print(f\"Velocidade atual: {self.velocidade} km/h\")\n",
        "        print(f\"Nível de combustível: {self.nivel_combustivel} litros\")\n",
        "        print(f\"Capacidade total do tanque: {self.capacidade_tanque} litros\")\n",
        "\n",
        "\n",
        "\n",
        "# Criando um carro\n",
        "meu_carro = Carro(\"Toyota\", \"Corolla\", 2020, 50)\n",
        "\n",
        "# Verificando o status inicial\n",
        "meu_carro.status()\n",
        "\n",
        "# Tentando ligar o carro sem combustível\n",
        "meu_carro.ligar()\n",
        "\n",
        "# Abastecendo o carro com 20 litros de combustível\n",
        "meu_carro.abastecer(20)\n",
        "\n",
        "# Ligando o carro\n",
        "meu_carro.ligar()\n",
        "\n",
        "# Acelerando o carro\n",
        "meu_carro.acelerar(50)\n",
        "\n",
        "# Freando o carro\n",
        "meu_carro.frear(20)\n",
        "\n",
        "# Desligando o carro\n",
        "meu_carro.desligar()\n",
        "\n",
        "# Verificando o status final\n",
        "meu_carro.status()\n",
        "\n",
        "\n"
      ],
      "metadata": {
        "colab": {
          "base_uri": "https://localhost:8080/"
        },
        "id": "UKkxEnKp1-kz",
        "outputId": "ec707e70-b507-4985-e488-cd17b04bbb81"
      },
      "execution_count": null,
      "outputs": [
        {
          "output_type": "stream",
          "name": "stdout",
          "text": [
            "Carro: Toyota Corolla (2020)\n",
            "Estado: desligado\n",
            "Velocidade atual: 0 km/h\n",
            "Nível de combustível: 0 litros\n",
            "Capacidade total do tanque: 50 litros\n",
            "O carro não pode ser ligado. Tanque vazio!\n",
            "20 litros foram adicionados ao tanque do Corolla. Nível atual: 20 litros.\n",
            "O Corolla foi ligado.\n",
            "O Corolla acelerou para 50 km/h.\n",
            "O Corolla diminuiu a velocidade para 30 km/h.\n",
            "O Corolla foi desligado.\n",
            "Carro: Toyota Corolla (2020)\n",
            "Estado: desligado\n",
            "Velocidade atual: 0 km/h\n",
            "Nível de combustível: 20 litros\n",
            "Capacidade total do tanque: 50 litros\n"
          ]
        }
      ]
    },
    {
      "cell_type": "markdown",
      "source": [
        "**CLASSE COM IMPLEMENTAÇÕES NOVAS**"
      ],
      "metadata": {
        "id": "VMlMs38M8FcE"
      }
    },
    {
      "cell_type": "code",
      "source": [
        "class Flor:\n",
        "    def __init__(self, nome, cor, tamanho):\n",
        "        self.nome = nome\n",
        "        self.cor = cor\n",
        "        self.tamanho = tamanho\n",
        "\n",
        "    def mostrar_dados(self):\n",
        "        print(f'Nome: {self.nome}, Cor: {self.cor}, Tamanho: {self.tamanho}')\n",
        "\n",
        "    def verificar_cor(self):\n",
        "        # Exemplo de if encadeado para verificar a cor da flor\n",
        "        if self.cor == 'vermelha':\n",
        "            print(f'A {self.nome} é vermelha e simboliza paixão.')\n",
        "        elif self.cor == 'branca':\n",
        "            print(f'A {self.nome} é branca e simboliza pureza.')\n",
        "        elif self.cor == 'amarela':\n",
        "            print(f'A {self.nome} é amarela e simboliza alegria.')\n",
        "        else:\n",
        "            print(f'A {self.nome} tem uma cor não especificada: {self.cor}.')\n",
        "\n",
        "    def listar_flores_grandes(self, lista_de_flores):\n",
        "        # Usando um loop for para verificar flores de tamanho grande\n",
        "        print(\"Flores com tamanho grande:\")\n",
        "        for flor in lista_de_flores:\n",
        "            if flor.tamanho >= 30:  # Considerando tamanho >= 30 como grande\n",
        "                print(f'- {flor.nome} ({flor.tamanho} cm)')\n",
        "            else:\n",
        "                print(f'- {flor.nome} não é considerada grande.')\n",
        "\n",
        "# Criando objetos Flor\n",
        "rosa = Flor('Rosa', 'vermelha', 35)\n",
        "margarida = Flor('Margarida', 'branca', 25)\n",
        "girassol = Flor('Girassol', 'amarela', 40)\n",
        "\n",
        "\n",
        "# Lista de flores\n",
        "flores = [rosa, margarida, girassol]\n",
        "\n",
        "# Testando as funções\n",
        "rosa.mostrar_dados()\n",
        "rosa.verificar_cor()\n",
        "print(\"\\n\")\n",
        "margarida.mostrar_dados()\n",
        "margarida.verificar_cor()\n",
        "print(\"\\n\")\n",
        "girassol.mostrar_dados()\n",
        "girassol.verificar_cor()\n",
        "print(\"\\n\")\n",
        "\n",
        "# Listando flores grandes\n",
        "rosa.listar_flores_grandes(flores)\n",
        "\n",
        "\n"
      ],
      "metadata": {
        "colab": {
          "base_uri": "https://localhost:8080/"
        },
        "id": "vVfCJXwPfWXy",
        "outputId": "26838313-0525-45f2-daaa-6f55c59bc227"
      },
      "execution_count": null,
      "outputs": [
        {
          "output_type": "stream",
          "name": "stdout",
          "text": [
            "Nome: Rosa, Cor: vermelha, Tamanho: 35\n",
            "A Rosa é vermelha e simboliza paixão.\n",
            "\n",
            "\n",
            "Nome: Margarida, Cor: branca, Tamanho: 25\n",
            "A Margarida é branca e simboliza pureza.\n",
            "\n",
            "\n",
            "Nome: Girassol, Cor: amarela, Tamanho: 40\n",
            "A Girassol é amarela e simboliza alegria.\n",
            "\n",
            "\n",
            "Flores com tamanho grande:\n",
            "- Rosa (35 cm)\n",
            "- Margarida não é considerada grande.\n",
            "- Girassol (40 cm)\n"
          ]
        }
      ]
    },
    {
      "cell_type": "code",
      "source": [
        "class Flor:\n",
        "    def __init__(self, nome, cor, tamanho, petalas):\n",
        "        self.nome = nome\n",
        "        self.cor = cor\n",
        "        self.tamanho = tamanho\n",
        "        self.petalas = petalas\n",
        "\n",
        "    def mostrar_dados(self):\n",
        "        print(f'Nome: {self.nome}, Cor: {self.cor}, Tamanho: {self.tamanho}, Pétalas: {self.petalas}')\n",
        "\n",
        "    def verificar_cor(self):\n",
        "        # Exemplo de if encadeado para verificar a cor da flor\n",
        "        if self.cor == 'vermelha':\n",
        "            print(f'A {self.nome} é vermelha e simboliza paixão.')\n",
        "        elif self.cor == 'branca':\n",
        "            print(f'A {self.nome} é branca e simboliza pureza.')\n",
        "        elif self.cor == 'amarela':\n",
        "            print(f'A {self.nome} é amarela e simboliza alegria.')\n",
        "        else:\n",
        "            print(f'A {self.nome} tem uma cor não especificada: {self.cor}.')\n",
        "\n",
        "    def listar_flores_grandes(self, lista_de_flores):\n",
        "        # Usando um loop for para verificar flores de tamanho grande\n",
        "        print(\"Flores com tamanho grande:\")\n",
        "        for flor in lista_de_flores:\n",
        "            if flor.tamanho >= 30:  # Considerando tamanho >= 30 como grande\n",
        "                print(f'- {flor.nome} ({flor.tamanho} cm)')\n",
        "            else:\n",
        "                print(f'- {flor.nome} não é considerada grande.')\n",
        "\n",
        "    # Funções adicionais com while e conectivos lógicos\n",
        "\n",
        "    def contar_petalas(self):\n",
        "        # Simula a contagem de pétalas usando while\n",
        "        petalas_restantes = self.petalas\n",
        "        while petalas_restantes > 0:\n",
        "            print(f'Contando... restam {petalas_restantes} pétalas.')\n",
        "            petalas_restantes -= 5\n",
        "        print(f'Todas as pétalas da {self.nome} foram contadas.')\n",
        "\n",
        "    def verificar_tamanho_e_cor(self):\n",
        "        # Verifica se a flor é grande (>= 30 cm) e é vermelha\n",
        "        if self.tamanho >= 30 and self.cor == 'vermelha':\n",
        "            print(f'A {self.nome} é uma flor grande e vermelha.')\n",
        "        elif self.tamanho < 30 or self.cor != 'vermelha':\n",
        "            print(f'A {self.nome} não atende aos critérios de ser grande e vermelha.')\n",
        "\n",
        "    def adicionar_mais_flores(self, lista_de_flores):\n",
        "        # Adiciona novas flores à lista enquanto certas condições são atendidas\n",
        "        while True:\n",
        "            nome = input(\"Digite o nome da flor para adicionar (ou 'sair' para terminar): \")\n",
        "            if nome.lower() == 'sair':\n",
        "                break\n",
        "            cor = input(\"Digite a cor da flor: \")\n",
        "            tamanho = int(input(\"Digite o tamanho da flor em cm: \"))\n",
        "            petalas = int(input(\"Digite o número de pétalas: \"))\n",
        "\n",
        "            # Verifica se o tamanho é positivo e a cor não está vazia\n",
        "            if tamanho > 0 and cor:\n",
        "                nova_flor = Flor(nome, cor, tamanho, petalas)\n",
        "                lista_de_flores.append(nova_flor) #Adiciona o objeto nova_flor à lista lista_de_flores\n",
        "                print(f'{nome} foi adicionada à lista.')\n",
        "            else:\n",
        "                print(\"Dados inválidos. A flor não foi adicionada.\")\n",
        "\n",
        "\n",
        "\n",
        "\n",
        "# Criando objetos Flor\n",
        "rosa = Flor('Rosa', 'vermelha', 35, 20)\n",
        "margarida = Flor('Margarida', 'branca', 25, 15)\n",
        "girassol = Flor('Girassol', 'amarela', 40, 30)\n",
        "violeta = Flor('Violeta', 'Lilás', 30, 25)\n",
        "\n",
        "\n",
        "# Lista de flores\n",
        "flores = [rosa, margarida, girassol, violeta]\n",
        "\n",
        "# Testando as funções adicionais\n",
        "print(f'Contagem das pétalas da {rosa.nome}')\n",
        "rosa.contar_petalas()\n",
        "print(\"\\n\")\n",
        "\n",
        "print(f'Contagem das pétalas da {margarida.nome}')\n",
        "margarida.contar_petalas()\n",
        "print(\"\\n\")\n",
        "\n",
        "print(f'Contagem das pétalas da {girassol.nome}')\n",
        "girassol.contar_petalas()\n",
        "print(\"\\n\")\n",
        "\n",
        "print(f'Contagem das pétalas da {violeta}')\n",
        "violeta.contar_petalas()\n",
        "print(\"\\n\")\n",
        "\n",
        "\n",
        "\n",
        "rosa.verificar_tamanho_e_cor()\n",
        "print(\"\\n\")\n",
        "rosa.adicionar_mais_flores(flores)\n",
        "\n",
        "\n"
      ],
      "metadata": {
        "colab": {
          "base_uri": "https://localhost:8080/"
        },
        "id": "LmrOZoewgfGw",
        "outputId": "fbec7aef-b351-457e-a4a7-d8a0293e294e"
      },
      "execution_count": null,
      "outputs": [
        {
          "name": "stdout",
          "output_type": "stream",
          "text": [
            "Contagem das pétalas da Rosa\n",
            "Contando... restam 20 pétalas.\n",
            "Contando... restam 15 pétalas.\n",
            "Contando... restam 10 pétalas.\n",
            "Contando... restam 5 pétalas.\n",
            "Todas as pétalas da Rosa foram contadas.\n",
            "\n",
            "\n",
            "Contagem das pétalas da Margarida\n",
            "Contando... restam 15 pétalas.\n",
            "Contando... restam 10 pétalas.\n",
            "Contando... restam 5 pétalas.\n",
            "Todas as pétalas da Margarida foram contadas.\n",
            "\n",
            "\n",
            "Contagem das pétalas da Girassol\n",
            "Contando... restam 30 pétalas.\n",
            "Contando... restam 25 pétalas.\n",
            "Contando... restam 20 pétalas.\n",
            "Contando... restam 15 pétalas.\n",
            "Contando... restam 10 pétalas.\n",
            "Contando... restam 5 pétalas.\n",
            "Todas as pétalas da Girassol foram contadas.\n",
            "\n",
            "\n",
            "Contagem das pétalas da Violeta\n",
            "Contando... restam 25 pétalas.\n",
            "Contando... restam 20 pétalas.\n",
            "Contando... restam 15 pétalas.\n",
            "Contando... restam 10 pétalas.\n",
            "Contando... restam 5 pétalas.\n",
            "Todas as pétalas da Violeta foram contadas.\n",
            "\n",
            "\n",
            "A Rosa é uma flor grande e vermelha.\n",
            "\n",
            "\n",
            "Digite o nome da flor para adicionar (ou 'sair' para terminar): sair\n"
          ]
        }
      ]
    }
  ]
}